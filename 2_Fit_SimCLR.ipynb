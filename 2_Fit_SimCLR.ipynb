{
 "cells": [
  {
   "cell_type": "markdown",
   "metadata": {},
   "source": [
    "# 2. Fit SimCLR"
   ]
  },
  {
   "cell_type": "code",
   "execution_count": 1,
   "metadata": {},
   "outputs": [
    {
     "name": "stderr",
     "output_type": "stream",
     "text": [
      "/home/gridsan/mmurphy/.conda/envs/HumanProteinAtlas/lib/python3.9/site-packages/tqdm/auto.py:22: TqdmWarning: IProgress not found. Please update jupyter and ipywidgets. See https://ipywidgets.readthedocs.io/en/stable/user_install.html\n",
      "  from .autonotebook import tqdm as notebook_tqdm\n"
     ]
    }
   ],
   "source": [
    "import numpy as np\n",
    "import pandas as pd\n",
    "from tqdm import tqdm\n",
    "import torch\n",
    "torch.manual_seed(0)\n",
    "\n",
    "%load_ext autoreload \n",
    "%autoreload 2"
   ]
  },
  {
   "cell_type": "code",
   "execution_count": 2,
   "metadata": {},
   "outputs": [],
   "source": [
    "from src.model import ContrastiveEmbedding\n",
    "from src.datamodule import ContrastiveDataModule\n",
    "from src.tensorboard import start_tensorboard\n",
    "from pytorch_lightning import Trainer"
   ]
  },
  {
   "cell_type": "code",
   "execution_count": 3,
   "metadata": {},
   "outputs": [],
   "source": [
    "TRAIN = False\n",
    "EVAL = True\n",
    "\n",
    "IMAGE_SIZE = 512\n",
    "PATCH_SIZE = 256\n",
    "BATCH_SIZE = 150\n",
    "NUM_WORKERS = 16\n",
    "NUM_EPOCHS = 1000\n",
    "EMBEDDING_DIM = 128\n",
    "TEMPERATURE = 1.0\n",
    "LEARNING_RATE = 5e-4\n",
    "ENCODER = 'densenet121'\n",
    "\n",
    "TISSUE = 'kidney'\n",
    "DATA_DIR = f'./data/images/{TISSUE}'\n",
    "CACHE_DIR = f'$TMPDIR/images/{TISSUE}'\n",
    "\n",
    "CHECKPOINT = f'./data/{TISSUE}.ckpt'"
   ]
  },
  {
   "cell_type": "markdown",
   "metadata": {},
   "source": [
    "Prepare subset of training images where correct binding is plausible."
   ]
  },
  {
   "cell_type": "code",
   "execution_count": 4,
   "metadata": {},
   "outputs": [
    {
     "name": "stdout",
     "output_type": "stream",
     "text": [
      "10164 images\n",
      "2106 genes\n"
     ]
    }
   ],
   "source": [
    "df = pd.read_csv('./data/hpa_v21_kidney.csv',index_col=0)\n",
    "df = df.query(f'Tissue==\"{TISSUE}\"')\n",
    "\n",
    "# Some images are associated with multiple genes (i.e. nonspecific antibody); we remove these.\n",
    "df['duplicated'] = df.index.value_counts()[df.index] > 1\n",
    "\n",
    "# Only include high-quality images.\n",
    "train_df = ( df.query('(Staining==\"high\")|(Staining==\"medium\")')\n",
    "               .query('Reliability==\"Enhanced\"')\n",
    "               .query('~duplicated') )\n",
    "\n",
    "train_images = set(train_df.index)\n",
    "\n",
    "print(len(train_images), 'images')\n",
    "print(len(train_df['Gene'].unique()), 'genes')"
   ]
  },
  {
   "cell_type": "markdown",
   "metadata": {},
   "source": [
    "Fit the model."
   ]
  },
  {
   "cell_type": "code",
   "execution_count": 5,
   "metadata": {},
   "outputs": [],
   "source": [
    "if TRAIN:\n",
    "    model = ContrastiveEmbedding(\n",
    "        embedding_dim=EMBEDDING_DIM,\n",
    "        patch_size=PATCH_SIZE,\n",
    "        encoder_type=ENCODER,\n",
    "        temperature=TEMPERATURE,\n",
    "        learning_rate=LEARNING_RATE,\n",
    "    )\n",
    "    \n",
    "    dm = ContrastiveDataModule(\n",
    "        DATA_DIR,\n",
    "        image_ext='png',\n",
    "        image_size=IMAGE_SIZE,\n",
    "        patch_size=PATCH_SIZE,\n",
    "        batch_size=BATCH_SIZE,\n",
    "        indicator=lambda item: item['Image'] in train_images,\n",
    "        grouper=lambda item: item['Gene'],\n",
    "        cache_dir=CACHE_DIR,\n",
    "        num_workers=NUM_WORKERS,\n",
    "        random_state=0\n",
    "    )\n",
    "    \n",
    "    # !rm -rf ./lightning_logs\n",
    "    start_tensorboard(login_node='login-2')\n",
    "\n",
    "    trainer = Trainer(\n",
    "        gpus=2,\n",
    "        precision=16,\n",
    "        strategy='dp',\n",
    "        log_every_n_steps=5,\n",
    "        min_epochs=NUM_EPOCHS,\n",
    "        max_epochs=NUM_EPOCHS\n",
    "    )\n",
    "\n",
    "    trainer.fit(model, dm)\n",
    "    \n",
    "    [last_ckpt] = !ls -t1 ./lightning_logs/default/{version}/checkpoints/*.ckpt | head -n1\n",
    "    !cp {last_ckpt} {CHECKPOINT}"
   ]
  },
  {
   "cell_type": "markdown",
   "metadata": {},
   "source": [
    "Embed the entire dataset of images."
   ]
  },
  {
   "cell_type": "code",
   "execution_count": null,
   "metadata": {},
   "outputs": [
    {
     "name": "stderr",
     "output_type": "stream",
     "text": [
      " 60%|█████▉    | 36703/61539 [13:14<08:32, 48.50it/s]"
     ]
    }
   ],
   "source": [
    "if EVAL:\n",
    "    model = ContrastiveEmbedding.load_from_checkpoint(\n",
    "        CHECKPOINT,\n",
    "        embedding_dim=EMBEDDING_DIM,\n",
    "        patch_size=PATCH_SIZE,\n",
    "        encoder_type=ENCODER,\n",
    "        temperature=TEMPERATURE,\n",
    "        learning_rate=LEARNING_RATE\n",
    "    )\n",
    "    \n",
    "    dm = ContrastiveDataModule(\n",
    "        DATA_DIR,\n",
    "        image_ext='png',\n",
    "        image_size=IMAGE_SIZE,\n",
    "        patch_size=PATCH_SIZE,\n",
    "        batch_size=BATCH_SIZE,\n",
    "        indicator=lambda item: True,\n",
    "        grouper=lambda item: item['Gene'],\n",
    "        cache_dir=CACHE_DIR,\n",
    "        num_workers=NUM_WORKERS,\n",
    "        random_state=0\n",
    "    )\n",
    "    dm.setup()\n",
    "\n",
    "    model.eval()\n",
    "    model = model.cuda()\n",
    "\n",
    "    embeddings = []\n",
    "    images = []\n",
    "    for item in tqdm(dm.test_dataset, position=0):\n",
    "        with torch.no_grad():\n",
    "            z = model(item['image'].to(model.device).unsqueeze(0))\n",
    "        images.append(item['name'])\n",
    "        embeddings.append(z.detach().cpu().numpy())\n",
    "    embeddings = np.concatenate(embeddings, axis=0)\n",
    "\n",
    "    # dump to file\n",
    "    np.save(f'./data/{TISSUE}_embeddings.npy', embeddings)\n",
    "    with open(f'./data/{TISSUE}_embeddings.txt','w') as f:\n",
    "        f.write('\\n'.join(images))\n",
    "        \n",
    "    len(embeddings)"
   ]
  }
 ],
 "metadata": {
  "kernelspec": {
   "display_name": "Python [conda env:.conda-HumanProteinAtlas]",
   "language": "python",
   "name": "conda-env-.conda-HumanProteinAtlas-py"
  },
  "language_info": {
   "codemirror_mode": {
    "name": "ipython",
    "version": 3
   },
   "file_extension": ".py",
   "mimetype": "text/x-python",
   "name": "python",
   "nbconvert_exporter": "python",
   "pygments_lexer": "ipython3",
   "version": "3.9.10"
  }
 },
 "nbformat": 4,
 "nbformat_minor": 4
}
