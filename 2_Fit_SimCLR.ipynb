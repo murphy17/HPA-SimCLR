{
 "cells": [
  {
   "cell_type": "markdown",
   "metadata": {},
   "source": [
    "# 2. Fit SimCLR"
   ]
  },
  {
   "cell_type": "code",
   "execution_count": 1,
   "metadata": {},
   "outputs": [
    {
     "name": "stderr",
     "output_type": "stream",
     "text": [
      "/home/gridsan/mmurphy/.conda/envs/HumanProteinAtlas/lib/python3.9/site-packages/tqdm/auto.py:22: TqdmWarning: IProgress not found. Please update jupyter and ipywidgets. See https://ipywidgets.readthedocs.io/en/stable/user_install.html\n",
      "  from .autonotebook import tqdm as notebook_tqdm\n"
     ]
    }
   ],
   "source": [
    "import numpy as np\n",
    "import pandas as pd\n",
    "from tqdm import tqdm\n",
    "import torch\n",
    "torch.manual_seed(0)\n",
    "\n",
    "%load_ext autoreload \n",
    "%autoreload 2"
   ]
  },
  {
   "cell_type": "code",
   "execution_count": 2,
   "metadata": {},
   "outputs": [],
   "source": [
    "from src.model import ContrastiveEmbedding\n",
    "from src.datamodule import ContrastiveDataModule\n",
    "from src.util import start_tensorboard\n",
    "from pytorch_lightning import Trainer"
   ]
  },
  {
   "cell_type": "code",
   "execution_count": 29,
   "metadata": {},
   "outputs": [],
   "source": [
    "TRAIN = True\n",
    "EVAL = True\n",
    "\n",
    "IMAGE_SIZE = 512\n",
    "PATCH_SIZE = 256\n",
    "BATCH_SIZE = 150\n",
    "NUM_WORKERS = 16\n",
    "NUM_EPOCHS = 1000\n",
    "EMBEDDING_DIM = 128\n",
    "TEMPERATURE = 1.0\n",
    "LEARNING_RATE = 5e-4\n",
    "ENCODER = 'densenet121'\n",
    "NUM_GPUS = 1 # torch.cuda.device_count()\n",
    "\n",
    "POS_REJECTION = False\n",
    "NEG_REJECTION = 'Patient'\n",
    "GENE_GROUPING = True\n",
    "\n",
    "TISSUE = 'kidney'\n",
    "VERSION = 'final'\n",
    "\n",
    "DATA_DIR = f'./data/images/{TISSUE}'\n",
    "CACHE_DIR = f'$TMPDIR/images/{TISSUE}'\n",
    "CHECKPOINT = f'./data/weights/{TISSUE}_{VERSION}.ckpt'"
   ]
  },
  {
   "cell_type": "markdown",
   "metadata": {},
   "source": [
    "Prepare subset of training images where correct binding is plausible."
   ]
  },
  {
   "cell_type": "code",
   "execution_count": 30,
   "metadata": {},
   "outputs": [
    {
     "name": "stdout",
     "output_type": "stream",
     "text": [
      "10164 images\n",
      "2106 genes\n"
     ]
    }
   ],
   "source": [
    "df = pd.read_csv(f'./data/hpa_v21_{TISSUE}.csv',index_col=0)\n",
    "\n",
    "# Some images are associated with multiple genes (i.e. nonspecific antibody); we remove these.\n",
    "df['duplicated'] = df.index.value_counts()[df.index] > 1\n",
    "\n",
    "# Only train on high-quality images.\n",
    "train_df = ( df.query('(Staining==\"high\")|(Staining==\"medium\")')\n",
    "               .query('Reliability==\"Enhanced\"')\n",
    "               .query('~duplicated') )\n",
    "\n",
    "train_images = set(train_df.index)\n",
    "\n",
    "print(len(train_images), 'images')\n",
    "print(len(train_df['Gene'].unique()), 'genes')"
   ]
  },
  {
   "cell_type": "markdown",
   "metadata": {},
   "source": [
    "Fit the model."
   ]
  },
  {
   "cell_type": "code",
   "execution_count": 5,
   "metadata": {},
   "outputs": [
    {
     "name": "stderr",
     "output_type": "stream",
     "text": [
      "Warning: No xauth data; using fake authentication data for X11 forwarding.\n",
      "Using 16bit native Automatic Mixed Precision (AMP)\n",
      "GPU available: True, used: True\n",
      "TPU available: False, using: 0 TPU cores\n",
      "IPU available: False, using: 0 IPUs\n",
      "LOCAL_RANK: 0 - CUDA_VISIBLE_DEVICES: [GPU-590cd023-ff31-c1a2-8267-e0afba042725]\n",
      "Set SLURM handle signals.\n",
      "\n",
      "  | Name            | Type       | Params\n",
      "-----------------------------------------------\n",
      "0 | encoder         | Sequential | 7.1 M \n",
      "1 | projection_head | Sequential | 33.0 K\n",
      "2 | _transform      | Sequential | 0     \n",
      "-----------------------------------------------\n",
      "7.1 M     Trainable params\n",
      "0         Non-trainable params\n",
      "7.1 M     Total params\n",
      "14.236    Total estimated model params size (MB)\n"
     ]
    },
    {
     "name": "stdout",
     "output_type": "stream",
     "text": [
      "Epoch 99: 100%|██████████| 8/8 [00:18<00:00,  2.32s/it, loss=0.00303, v_num=1.45e+7]\n"
     ]
    }
   ],
   "source": [
    "if TRAIN:\n",
    "    # kludge\n",
    "    indicator = ('Image',train_images)\n",
    "    grouper = 'Gene'\n",
    "    \n",
    "    model = ContrastiveEmbedding(\n",
    "        embedding_dim=EMBEDDING_DIM,\n",
    "        patch_size=PATCH_SIZE,\n",
    "        encoder_type=ENCODER,\n",
    "        temperature=TEMPERATURE,\n",
    "        learning_rate=LEARNING_RATE,\n",
    "        positive_masking=POS_REJECTION,\n",
    "        negative_masking=NEG_REJECTION,\n",
    "        # kludge\n",
    "        image_dir=DATA_DIR,\n",
    "        image_ext='png',\n",
    "        image_size=IMAGE_SIZE,\n",
    "        batch_size=BATCH_SIZE,\n",
    "        indicator=indicator,\n",
    "        grouper=grouper,\n",
    "        cache_dir=CACHE_DIR,\n",
    "        num_workers=NUM_WORKERS,\n",
    "        random_state=0\n",
    "    )\n",
    "    \n",
    "    dm = ContrastiveDataModule(\n",
    "        DATA_DIR,\n",
    "        image_ext='png',\n",
    "        image_size=IMAGE_SIZE,\n",
    "        patch_size=PATCH_SIZE,\n",
    "        batch_size=BATCH_SIZE,\n",
    "        indicator=indicator,\n",
    "        grouper=grouper,\n",
    "        cache_dir=CACHE_DIR,\n",
    "        num_workers=NUM_WORKERS,\n",
    "        random_state=0\n",
    "    )\n",
    "    \n",
    "    # !rm -rf ./lightning_logs\n",
    "    start_tensorboard(login_node='login-2')\n",
    "\n",
    "    trainer = Trainer(\n",
    "        gpus=NUM_GPUS,\n",
    "        precision=16,\n",
    "#         strategy='ddp_spawn',\n",
    "        log_every_n_steps=5,\n",
    "        min_epochs=NUM_EPOCHS,\n",
    "        max_epochs=NUM_EPOCHS\n",
    "    )\n",
    "\n",
    "    trainer.fit(model, dm)\n",
    "\n",
    "    # BEGIN KLUDGE\n",
    "#     import sys\n",
    "#     sys.path.insert(1, '../../ClusterTools')\n",
    "#     from ClusterTools import *\n",
    "\n",
    "#     dm.setup()\n",
    "    \n",
    "#     Cluster(\n",
    "#         gpus=1,\n",
    "#         cpus=20,\n",
    "#         num_nodes=4,\n",
    "#         version=f'{TISSUE}_{VERSION}',\n",
    "#         log_dir='./lightning_logs',\n",
    "#     ).train(\n",
    "#         model, \n",
    "#         dm,\n",
    "#         min_epochs=NUM_EPOCHS,\n",
    "#         max_epochs=NUM_EPOCHS,\n",
    "#         log_every_n_steps=5,\n",
    "#         precision=16,\n",
    "#         train_async=True\n",
    "#     );\n",
    "    # END KLUDGE\n",
    "    \n",
    "    [last_ckpt] = !ls -t1 ./lightning_logs/*/checkpoints/*.ckpt | head -n1\n",
    "    !cp {last_ckpt} {CHECKPOINT}"
   ]
  },
  {
   "cell_type": "markdown",
   "metadata": {},
   "source": [
    "Embed the entire dataset of images."
   ]
  },
  {
   "cell_type": "code",
   "execution_count": 27,
   "metadata": {},
   "outputs": [
    {
     "name": "stderr",
     "output_type": "stream",
     "text": [
      "100%|██████████| 45740/45740 [15:21<00:00, 49.64it/s] \n"
     ]
    }
   ],
   "source": [
    "if EVAL:\n",
    "    # kludge\n",
    "    indicator = lambda _: True\n",
    "    grouper = 'Image'\n",
    "    \n",
    "    model = ContrastiveEmbedding.load_from_checkpoint(\n",
    "        CHECKPOINT,\n",
    "        embedding_dim=EMBEDDING_DIM,\n",
    "        patch_size=PATCH_SIZE,\n",
    "        encoder_type=ENCODER,\n",
    "        temperature=TEMPERATURE,\n",
    "        learning_rate=LEARNING_RATE,\n",
    "        positive_masking=POS_REJECTION,\n",
    "        negative_masking=NEG_REJECTION,\n",
    "    )\n",
    "    \n",
    "    dm = ContrastiveDataModule(\n",
    "        DATA_DIR,\n",
    "        image_ext='png',\n",
    "        image_size=IMAGE_SIZE,\n",
    "        patch_size=PATCH_SIZE,\n",
    "        batch_size=BATCH_SIZE,\n",
    "        indicator=indicator,\n",
    "        grouper=grouper,\n",
    "        cache_dir=CACHE_DIR,\n",
    "        num_workers=NUM_WORKERS,\n",
    "        random_state=0\n",
    "    )\n",
    "    dm.setup()\n",
    "    \n",
    "    model.eval()\n",
    "    model = model.cuda()\n",
    "\n",
    "    embeddings = []\n",
    "    images = []\n",
    "    for item in tqdm(dm.test_dataset, position=0):\n",
    "        with torch.no_grad():\n",
    "            z = model(item['image'].to(model.device).unsqueeze(0))\n",
    "        images.append(item['name'])\n",
    "        embeddings.append(z.detach().cpu().numpy())\n",
    "    embeddings = np.concatenate(embeddings, axis=0)\n",
    "\n",
    "    # dump to file\n",
    "#     np.save(f'./data/{TISSUE}_embeddings.npy', embeddings)\n",
    "#     with open(f'./data/{TISSUE}_embeddings.txt','w') as f:\n",
    "#         f.write('\\n'.join(images))\n",
    "    embeddings = pd.DataFrame(embeddings, index=images)\n",
    "    embeddings.to_csv(f'./data/{TISSUE}_{VERSION}_embeddings.csv',sep=',')\n",
    "        \n",
    "    len(embeddings)"
   ]
  }
 ],
 "metadata": {
  "kernelspec": {
   "display_name": "Python [conda env:.conda-HumanProteinAtlas]",
   "language": "python",
   "name": "conda-env-.conda-HumanProteinAtlas-py"
  },
  "language_info": {
   "codemirror_mode": {
    "name": "ipython",
    "version": 3
   },
   "file_extension": ".py",
   "mimetype": "text/x-python",
   "name": "python",
   "nbconvert_exporter": "python",
   "pygments_lexer": "ipython3",
   "version": "3.9.10"
  }
 },
 "nbformat": 4,
 "nbformat_minor": 4
}
