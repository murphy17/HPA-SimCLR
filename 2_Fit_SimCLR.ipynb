{
 "cells": [
  {
   "cell_type": "markdown",
   "metadata": {},
   "source": [
    "# 2. Fit SimCLR"
   ]
  },
  {
   "cell_type": "code",
   "execution_count": 1,
   "metadata": {},
   "outputs": [
    {
     "name": "stderr",
     "output_type": "stream",
     "text": [
      "/home/gridsan/mmurphy/.conda/envs/HumanProteinAtlas/lib/python3.9/site-packages/tqdm/auto.py:22: TqdmWarning: IProgress not found. Please update jupyter and ipywidgets. See https://ipywidgets.readthedocs.io/en/stable/user_install.html\n",
      "  from .autonotebook import tqdm as notebook_tqdm\n"
     ]
    }
   ],
   "source": [
    "import numpy as np\n",
    "import pandas as pd\n",
    "from tqdm import tqdm\n",
    "import torch\n",
    "torch.manual_seed(0)\n",
    "\n",
    "%load_ext autoreload \n",
    "%autoreload 2"
   ]
  },
  {
   "cell_type": "code",
   "execution_count": 2,
   "metadata": {},
   "outputs": [
    {
     "name": "stdout",
     "output_type": "stream",
     "text": [
      "10164 images\n",
      "2106 genes\n"
     ]
    }
   ],
   "source": [
    "df = pd.read_csv('./data/hpa_v21_kidney.csv',index_col=0)\n",
    "\n",
    "# Some images are associated with multiple genes (i.e. nonspecific antibody); we remove these.\n",
    "df['duplicated'] = df.index.value_counts()[df.index] > 1\n",
    "\n",
    "# Only include high-quality images.\n",
    "train_df = ( df.query('(Staining==\"high\")|(Staining==\"medium\")')\n",
    "               .query('Reliability==\"Enhanced\"')\n",
    "               .query('~duplicated') )\n",
    "\n",
    "train_images = set(train_df.index)\n",
    "\n",
    "print(len(train_images), 'images')\n",
    "print(len(train_df['Gene'].unique()), 'genes')"
   ]
  },
  {
   "cell_type": "code",
   "execution_count": 3,
   "metadata": {},
   "outputs": [],
   "source": [
    "from src.datamodule import ContrastiveDataModule\n",
    "\n",
    "IMAGE_SIZE = 512\n",
    "PATCH_SIZE = 256\n",
    "BATCH_SIZE = 150\n",
    "NUM_WORKERS = 16\n",
    "GROUP_BY = 'Gene'\n",
    "\n",
    "dm = ContrastiveDataModule(\n",
    "    './data/images',\n",
    "    image_ext='png',\n",
    "    image_size=IMAGE_SIZE,\n",
    "    patch_size=PATCH_SIZE,\n",
    "    batch_size=BATCH_SIZE,\n",
    "    indicator=lambda item: item['Image'] in train_images,\n",
    "    grouper=lambda item: item[GROUP_BY],\n",
    "    cache_dir='$TMPDIR/images',\n",
    "    num_workers=NUM_WORKERS,\n",
    "    random_state=0\n",
    ")"
   ]
  },
  {
   "cell_type": "code",
   "execution_count": 33,
   "metadata": {},
   "outputs": [],
   "source": [
    "from src.model import ContrastiveEmbedding\n",
    "from pytorch_lightning import Trainer\n",
    "from src.tensorboard import start_tensorboard\n",
    "\n",
    "TRAIN = False\n",
    "NUM_EPOCHS = 10\n",
    "EMBEDDING_DIM = 128\n",
    "TEMPERATURE = 1.0\n",
    "LEARNING_RATE = 5e-4\n",
    "ENCODER = 'densenet121'\n",
    "\n",
    "if TRAIN:\n",
    "    model = ContrastiveEmbedding(\n",
    "        embedding_dim=EMBEDDING_DIM,\n",
    "        patch_size=PATCH_SIZE,\n",
    "        encoder_type=ENCODER,\n",
    "        temperature=TEMPERATURE,\n",
    "        learning_rate=LEARNING_RATE,\n",
    "    )\n",
    "    \n",
    "    # !rm -rf ./lightning_logs\n",
    "    \n",
    "    start_tensorboard(login_node='login-2')\n",
    "\n",
    "    trainer = Trainer(\n",
    "        gpus=2,\n",
    "        precision=16,\n",
    "        strategy='dp',\n",
    "        log_every_n_steps=5,\n",
    "        min_epochs=NUM_EPOCHS,\n",
    "        max_epochs=NUM_EPOCHS\n",
    "    )\n",
    "\n",
    "    trainer.fit(model, dm)\n",
    "    \n",
    "else:\n",
    "#     [last_ckpt] = !ls -t1 ./lightning_logs/*/checkpoints/*.ckpt | head -n1\n",
    "    last_ckpt = './data/kidney.ckpt'\n",
    "    model = ContrastiveEmbedding.load_from_checkpoint(\n",
    "        last_ckpt,\n",
    "        embedding_dim=EMBEDDING_DIM,\n",
    "        patch_size=PATCH_SIZE,\n",
    "        encoder_type=ENCODER,\n",
    "        temperature=TEMPERATURE,\n",
    "        learning_rate=LEARNING_RATE\n",
    "    )\n",
    "    dm.setup()"
   ]
  },
  {
   "cell_type": "code",
   "execution_count": 47,
   "metadata": {},
   "outputs": [],
   "source": [
    "# Evaluate each embedding on the whole image, for the downstream classification task.\n",
    "\n",
    "model.eval()\n",
    "model = model.cuda()\n",
    "\n",
    "embeddings = []\n",
    "images = []\n",
    "for batch in tqdm(dm.test_dataloader(), position=0):\n",
    "    with torch.no_grad():\n",
    "        z = model(batch['image'].to(model.device))\n",
    "    images.append(batch['Image'])\n",
    "    embeddings.append(z.detach().cpu().numpy())\n",
    "embeddings = np.concatenate(embeddings, axis=0)\n",
    "images = np.concatenate(images, axis=0)\n",
    "\n",
    "np.save('./data/embeddings.npy', embeddings)\n",
    "with open('./data/embeddings.txt','w') as f:\n",
    "    f.write('\\n'.join(images))"
   ]
  }
 ],
 "metadata": {
  "kernelspec": {
   "display_name": "Python [conda env:.conda-HumanProteinAtlas]",
   "language": "python",
   "name": "conda-env-.conda-HumanProteinAtlas-py"
  },
  "language_info": {
   "codemirror_mode": {
    "name": "ipython",
    "version": 3
   },
   "file_extension": ".py",
   "mimetype": "text/x-python",
   "name": "python",
   "nbconvert_exporter": "python",
   "pygments_lexer": "ipython3",
   "version": "3.9.10"
  }
 },
 "nbformat": 4,
 "nbformat_minor": 4
}
