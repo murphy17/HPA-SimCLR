{
 "cells": [
  {
   "cell_type": "markdown",
   "metadata": {},
   "source": [
    "# 2. Fit SimCLR"
   ]
  },
  {
   "cell_type": "code",
   "execution_count": null,
   "metadata": {},
   "outputs": [],
   "source": [
    "import pandas as pd\n",
    "import torch\n",
    "torch.manual_seed(0)\n",
    "\n",
    "%load_ext autoreload \n",
    "%autoreload 2"
   ]
  },
  {
   "cell_type": "code",
   "execution_count": null,
   "metadata": {},
   "outputs": [],
   "source": [
    "df = pd.read_csv('./data/hpa_v21_kidney.csv',index_col=0)\n",
    "\n",
    "# Some images are associated with multiple genes (i.e. nonspecific antibody); we remove these.\n",
    "df['duplicated'] = df.index.value_counts()[df.index] > 1\n",
    "\n",
    "# Only include high-quality images.\n",
    "train_df = ( df.query('(Staining==\"high\")|(Staining==\"medium\")')\n",
    "               .query('Reliability==\"Enhanced\"')\n",
    "               .query('~duplicated') )\n",
    "\n",
    "train_images = set(train_df.index)\n",
    "\n",
    "print(len(train_images), 'training images')\n",
    "print('covering', len(train_df['Gene'].unique()), 'genes')"
   ]
  },
  {
   "cell_type": "code",
   "execution_count": null,
   "metadata": {},
   "outputs": [],
   "source": [
    "from src.datamodule import ContrastiveDataModule\n",
    "\n",
    "dm = ContrastiveDataModule(\n",
    "    './data/images',\n",
    "    image_ext='png8',\n",
    "    image_size=512,\n",
    "    patch_size=256,\n",
    "    batch_size=16, # 150 !!!\n",
    "    indicator=lambda item: item['Image'] in train_images,\n",
    "    grouper=lambda item: item['Gene'],\n",
    "    cache_dir='$TMPDIR',\n",
    "    num_workers=4,\n",
    "    random_state=0\n",
    ")"
   ]
  },
  {
   "cell_type": "code",
   "execution_count": null,
   "metadata": {},
   "outputs": [],
   "source": [
    "from src.model import ContrastiveEmbedding\n",
    "\n",
    "model = ContrastiveEmbedding(\n",
    "    embedding_dim=128,\n",
    "    encoder_type='densenet121',\n",
    "    temperature=1.0,\n",
    "    learning_rate=5e-4,\n",
    ")"
   ]
  },
  {
   "cell_type": "code",
   "execution_count": null,
   "metadata": {},
   "outputs": [],
   "source": [
    "from src.tensorboard import start_tensorboard\n",
    "\n",
    "start_tensorboard(login_node='login-2')"
   ]
  },
  {
   "cell_type": "code",
   "execution_count": null,
   "metadata": {},
   "outputs": [],
   "source": [
    "from pytorch_lightning import Trainer\n",
    "\n",
    "num_epochs = 10\n",
    "\n",
    "!rm -rf ./lightning_logs\n",
    "trainer = Trainer(\n",
    "    gpus=2,\n",
    "    precision=16,\n",
    "    strategy='dp',\n",
    "    log_every_n_steps=5,\n",
    "    min_epochs=num_epochs,\n",
    "    max_epochs=num_epochs\n",
    ")\n",
    "\n",
    "trainer.fit(model, dm)"
   ]
  }
 ],
 "metadata": {
  "kernelspec": {
   "display_name": "Python [conda env:.conda-HumanProteinAtlas]",
   "language": "python",
   "name": "conda-env-.conda-HumanProteinAtlas-py"
  },
  "language_info": {
   "codemirror_mode": {
    "name": "ipython",
    "version": 3
   },
   "file_extension": ".py",
   "mimetype": "text/x-python",
   "name": "python",
   "nbconvert_exporter": "python",
   "pygments_lexer": "ipython3",
   "version": "3.9.10"
  }
 },
 "nbformat": 4,
 "nbformat_minor": 4
}
