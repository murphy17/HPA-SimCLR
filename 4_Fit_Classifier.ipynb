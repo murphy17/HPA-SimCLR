{
 "cells": [
  {
   "cell_type": "code",
   "execution_count": 1,
   "metadata": {},
   "outputs": [
    {
     "name": "stderr",
     "output_type": "stream",
     "text": [
      "/home/gridsan/mmurphy/.conda/envs/HumanProteinAtlas/lib/python3.9/site-packages/tqdm/auto.py:22: TqdmWarning: IProgress not found. Please update jupyter and ipywidgets. See https://ipywidgets.readthedocs.io/en/stable/user_install.html\n",
      "  from .autonotebook import tqdm as notebook_tqdm\n"
     ]
    }
   ],
   "source": [
    "import numpy as np\n",
    "import matplotlib.pyplot as plt\n",
    "import pandas as pd\n",
    "import scanpy as sc\n",
    "import torch\n",
    "torch.manual_seed(0)\n",
    "\n",
    "%load_ext autoreload \n",
    "%autoreload 2\n",
    "%config InlineBackend.figure_format = 'retina'"
   ]
  },
  {
   "cell_type": "markdown",
   "metadata": {},
   "source": [
    "Marker proteins of anatomical regions listed in \"The kidney transcriptome and proteome defined by transcriptomics and antibody-based profiling\"."
   ]
  },
  {
   "cell_type": "code",
   "execution_count": 2,
   "metadata": {},
   "outputs": [
    {
     "data": {
      "text/html": [
       "<div>\n",
       "<style scoped>\n",
       "    .dataframe tbody tr th:only-of-type {\n",
       "        vertical-align: middle;\n",
       "    }\n",
       "\n",
       "    .dataframe tbody tr th {\n",
       "        vertical-align: top;\n",
       "    }\n",
       "\n",
       "    .dataframe thead th {\n",
       "        text-align: right;\n",
       "    }\n",
       "</style>\n",
       "<table border=\"1\" class=\"dataframe\">\n",
       "  <thead>\n",
       "    <tr style=\"text-align: right;\">\n",
       "      <th></th>\n",
       "      <th>region</th>\n",
       "      <th>gene</th>\n",
       "    </tr>\n",
       "    <tr>\n",
       "      <th>Ensembl ID(supplied by Ensembl)</th>\n",
       "      <th></th>\n",
       "      <th></th>\n",
       "    </tr>\n",
       "  </thead>\n",
       "  <tbody>\n",
       "    <tr>\n",
       "      <th>ENSG00000128567</th>\n",
       "      <td>glomerulus</td>\n",
       "      <td>PODXL</td>\n",
       "    </tr>\n",
       "    <tr>\n",
       "      <th>ENSG00000158457</th>\n",
       "      <td>glomerulus</td>\n",
       "      <td>TSPAN33</td>\n",
       "    </tr>\n",
       "    <tr>\n",
       "      <th>ENSG00000113578</th>\n",
       "      <td>glomerulus</td>\n",
       "      <td>FGF1</td>\n",
       "    </tr>\n",
       "    <tr>\n",
       "      <th>ENSG00000116218</th>\n",
       "      <td>glomerulus</td>\n",
       "      <td>NPHS2</td>\n",
       "    </tr>\n",
       "    <tr>\n",
       "      <th>ENSG00000198743</th>\n",
       "      <td>glomerulus</td>\n",
       "      <td>SLC5A3</td>\n",
       "    </tr>\n",
       "    <tr>\n",
       "      <th>...</th>\n",
       "      <td>...</td>\n",
       "      <td>...</td>\n",
       "    </tr>\n",
       "    <tr>\n",
       "      <th>ENSG00000105707</th>\n",
       "      <td>collecting duct</td>\n",
       "      <td>HPN</td>\n",
       "    </tr>\n",
       "    <tr>\n",
       "      <th>ENSG00000214128</th>\n",
       "      <td>collecting duct</td>\n",
       "      <td>TMEM213</td>\n",
       "    </tr>\n",
       "    <tr>\n",
       "      <th>ENSG00000100362</th>\n",
       "      <td>collecting duct</td>\n",
       "      <td>PVALB</td>\n",
       "    </tr>\n",
       "    <tr>\n",
       "      <th>ENSG00000132677</th>\n",
       "      <td>collecting duct</td>\n",
       "      <td>RHBG</td>\n",
       "    </tr>\n",
       "    <tr>\n",
       "      <th>ENSG00000113073</th>\n",
       "      <td>collecting duct</td>\n",
       "      <td>SLC4A9</td>\n",
       "    </tr>\n",
       "  </tbody>\n",
       "</table>\n",
       "<p>137 rows × 2 columns</p>\n",
       "</div>"
      ],
      "text/plain": [
       "                                          region     gene\n",
       "Ensembl ID(supplied by Ensembl)                          \n",
       "ENSG00000128567                       glomerulus    PODXL\n",
       "ENSG00000158457                       glomerulus  TSPAN33\n",
       "ENSG00000113578                       glomerulus     FGF1\n",
       "ENSG00000116218                       glomerulus    NPHS2\n",
       "ENSG00000198743                       glomerulus   SLC5A3\n",
       "...                                          ...      ...\n",
       "ENSG00000105707                  collecting duct      HPN\n",
       "ENSG00000214128                  collecting duct  TMEM213\n",
       "ENSG00000100362                  collecting duct    PVALB\n",
       "ENSG00000132677                  collecting duct     RHBG\n",
       "ENSG00000113073                  collecting duct   SLC4A9\n",
       "\n",
       "[137 rows x 2 columns]"
      ]
     },
     "execution_count": 2,
     "metadata": {},
     "output_type": "execute_result"
    }
   ],
   "source": [
    "hpa_markers = pd.read_csv('./data/hpa_markers.csv',comment='#')\n",
    "gene_symbols = pd.read_table('./data/gene_symbols.tsv').iloc[:,[0,-1]]\n",
    "hpa_markers = hpa_markers.merge(gene_symbols,\n",
    "                                left_on='gene',right_on='Approved symbol',how='inner')\n",
    "hpa_markers = hpa_markers.set_index(hpa_markers.columns[-1])[['region','gene']]\n",
    "hpa_markers"
   ]
  },
  {
   "cell_type": "markdown",
   "metadata": {},
   "source": [
    "Load embeddings and normalized per-cell-type mean scRNA expression of each gene."
   ]
  },
  {
   "cell_type": "code",
   "execution_count": 3,
   "metadata": {},
   "outputs": [
    {
     "name": "stderr",
     "output_type": "stream",
     "text": [
      "Observation names are not unique. To make them unique, call `.obs_names_make_unique`.\n"
     ]
    },
    {
     "data": {
      "text/plain": [
       "AnnData object with n_obs × n_vars = 66138 × 128\n",
       "    obs: 'Batch', 'Slide', 'Well', 'Tissue', 'Gene name', 'Gene', 'UniProt', 'Antibody', 'nTPM', 'Staining', 'Sex', 'Age', 'Patient', 'URL', 'Level', 'Reliability', 'epithelial cell of proximal tubule', 'fibroblast', 'glomerular visceral epithelial cell', 'kidney capillary endothelial cell', 'kidney connecting tubule epithelial cell', 'kidney distal convoluted tubule epithelial cell', 'kidney loop of Henle thick ascending limb epithelial cell', 'leukocyte', 'mesangial cell', 'parietal epithelial cell', 'renal alpha-intercalated cell', 'renal beta-intercalated cell', 'renal principal cell'"
      ]
     },
     "execution_count": 3,
     "metadata": {},
     "output_type": "execute_result"
    }
   ],
   "source": [
    "embeddings = np.load('./data/kidney_embeddings.npy')\n",
    "index = !cat './data/kidney_embeddings.txt'\n",
    "embeddings = pd.DataFrame(embeddings,index=index)\n",
    "rna = pd.read_csv('./data/kidney_rna.csv',index_col=0)\n",
    "df = pd.read_csv('./data/hpa_v21_kidney.csv',index_col=0)\n",
    "adata = embeddings.join(df, how='inner')\n",
    "adata = sc.AnnData(adata[embeddings.columns], obs=adata[df.columns])\n",
    "adata.var_names = pd.Series(range(adata.shape[1])).astype(str)\n",
    "adata.obs = adata.obs.join(rna, on='Gene', how='left')\n",
    "\n",
    "adata"
   ]
  },
  {
   "cell_type": "markdown",
   "metadata": {},
   "source": [
    "Hold out images of marker proteins."
   ]
  },
  {
   "cell_type": "code",
   "execution_count": 4,
   "metadata": {},
   "outputs": [
    {
     "data": {
      "text/plain": [
       "(52237, 583)"
      ]
     },
     "execution_count": 4,
     "metadata": {},
     "output_type": "execute_result"
    }
   ],
   "source": [
    "train_genes = set(adata.obs.dropna()['Gene'])\n",
    "test_genes = train_genes & set(hpa_markers.index)\n",
    "train_genes = train_genes - set(hpa_markers['gene'])\n",
    "\n",
    "train_mask = adata.obs['Gene'].isin(train_genes)\n",
    "test_mask = adata.obs['Gene'].isin(test_genes)\n",
    "\n",
    "cell_types = list(rna.columns)\n",
    "\n",
    "X_train = adata[train_mask].to_df() # embeddings\n",
    "Y_train = adata[train_mask].obs[cell_types].copy() # RNA\n",
    "\n",
    "X_test = adata[test_mask].to_df()\n",
    "Y_test = adata[test_mask].obs[cell_types].copy()\n",
    "\n",
    "sum(train_mask), sum(test_mask)"
   ]
  },
  {
   "cell_type": "markdown",
   "metadata": {},
   "source": [
    "Fit softmax linear model using gradient descent."
   ]
  },
  {
   "cell_type": "code",
   "execution_count": 5,
   "metadata": {},
   "outputs": [
    {
     "name": "stderr",
     "output_type": "stream",
     "text": [
      "100%|██████████| 1000/1000 [00:03<00:00, 283.36it/s]\n"
     ]
    }
   ],
   "source": [
    "from src.classifier import SoftmaxRegression, platt_scaling\n",
    "\n",
    "clf = SoftmaxRegression(max_iters=1000, lr=0.01, verbose=True)\n",
    "clf.fit(X_train, Y_train)\n",
    "\n",
    "Y_pred = clf.predict_proba(adata.X)\n",
    "Y_pred /= Y_pred.sum(1,keepdims=True)\n",
    "Y_pred = pd.DataFrame(Y_pred, index=adata.obs_names, columns=cell_types)"
   ]
  },
  {
   "cell_type": "code",
   "execution_count": 6,
   "metadata": {},
   "outputs": [
    {
     "data": {
      "text/plain": [
       "(66138, 13)"
      ]
     },
     "execution_count": 6,
     "metadata": {},
     "output_type": "execute_result"
    }
   ],
   "source": [
    "Y_pred.to_csv('./data/kidney_scores.csv')\n",
    "Y_pred.shape"
   ]
  },
  {
   "cell_type": "code",
   "execution_count": null,
   "metadata": {},
   "outputs": [],
   "source": []
  }
 ],
 "metadata": {
  "kernelspec": {
   "display_name": "Python [conda env:.conda-HumanProteinAtlas]",
   "language": "python",
   "name": "conda-env-.conda-HumanProteinAtlas-py"
  },
  "language_info": {
   "codemirror_mode": {
    "name": "ipython",
    "version": 3
   },
   "file_extension": ".py",
   "mimetype": "text/x-python",
   "name": "python",
   "nbconvert_exporter": "python",
   "pygments_lexer": "ipython3",
   "version": "3.9.10"
  }
 },
 "nbformat": 4,
 "nbformat_minor": 4
}
