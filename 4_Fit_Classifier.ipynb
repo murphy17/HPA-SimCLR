{
 "cells": [
  {
   "cell_type": "code",
   "execution_count": 14,
   "metadata": {},
   "outputs": [],
   "source": [
    "import numpy as np\n",
    "import numpy.random as npr\n",
    "import pandas as pd\n",
    "import scanpy as sc\n",
    "import torch\n",
    "torch.manual_seed(0);"
   ]
  },
  {
   "cell_type": "code",
   "execution_count": 15,
   "metadata": {},
   "outputs": [],
   "source": [
    "hpa_mapping = pd.Series({\n",
    "    'epithelial cell of proximal tubule':'proximal tubule',\n",
    "    'fibroblast':None,\n",
    "    'glomerular visceral epithelial cell':'glomerulus',\n",
    "    'kidney capillary endothelial cell':'glomerulus',\n",
    "    'kidney connecting tubule epithelial cell':'distal tubule',\n",
    "    'kidney distal convoluted tubule epithelial cell':'distal tubule',\n",
    "    'kidney loop of Henle thick ascending limb epithelial cell':'distal tubule',\n",
    "    'leukocyte':None,\n",
    "    'mesangial cell':'glomerulus',\n",
    "    'parietal epithelial cell':'glomerulus',\n",
    "    'renal alpha-intercalated cell':'collecting duct',\n",
    "    'renal beta-intercalated cell':'collecting duct',\n",
    "    'renal principal cell':'collecting duct'\n",
    "},name='region')"
   ]
  },
  {
   "cell_type": "code",
   "execution_count": 16,
   "metadata": {},
   "outputs": [
    {
     "data": {
      "text/html": [
       "<div>\n",
       "<style scoped>\n",
       "    .dataframe tbody tr th:only-of-type {\n",
       "        vertical-align: middle;\n",
       "    }\n",
       "\n",
       "    .dataframe tbody tr th {\n",
       "        vertical-align: top;\n",
       "    }\n",
       "\n",
       "    .dataframe thead th {\n",
       "        text-align: right;\n",
       "    }\n",
       "</style>\n",
       "<table border=\"1\" class=\"dataframe\">\n",
       "  <thead>\n",
       "    <tr style=\"text-align: right;\">\n",
       "      <th></th>\n",
       "      <th>region</th>\n",
       "      <th>gene</th>\n",
       "    </tr>\n",
       "    <tr>\n",
       "      <th>Ensembl ID(supplied by Ensembl)</th>\n",
       "      <th></th>\n",
       "      <th></th>\n",
       "    </tr>\n",
       "  </thead>\n",
       "  <tbody>\n",
       "    <tr>\n",
       "      <th>ENSG00000128567</th>\n",
       "      <td>glomerulus</td>\n",
       "      <td>PODXL</td>\n",
       "    </tr>\n",
       "    <tr>\n",
       "      <th>ENSG00000158457</th>\n",
       "      <td>glomerulus</td>\n",
       "      <td>TSPAN33</td>\n",
       "    </tr>\n",
       "    <tr>\n",
       "      <th>ENSG00000113578</th>\n",
       "      <td>glomerulus</td>\n",
       "      <td>FGF1</td>\n",
       "    </tr>\n",
       "    <tr>\n",
       "      <th>ENSG00000116218</th>\n",
       "      <td>glomerulus</td>\n",
       "      <td>NPHS2</td>\n",
       "    </tr>\n",
       "    <tr>\n",
       "      <th>ENSG00000198743</th>\n",
       "      <td>glomerulus</td>\n",
       "      <td>SLC5A3</td>\n",
       "    </tr>\n",
       "    <tr>\n",
       "      <th>...</th>\n",
       "      <td>...</td>\n",
       "      <td>...</td>\n",
       "    </tr>\n",
       "    <tr>\n",
       "      <th>ENSG00000105707</th>\n",
       "      <td>collecting duct</td>\n",
       "      <td>HPN</td>\n",
       "    </tr>\n",
       "    <tr>\n",
       "      <th>ENSG00000214128</th>\n",
       "      <td>collecting duct</td>\n",
       "      <td>TMEM213</td>\n",
       "    </tr>\n",
       "    <tr>\n",
       "      <th>ENSG00000100362</th>\n",
       "      <td>collecting duct</td>\n",
       "      <td>PVALB</td>\n",
       "    </tr>\n",
       "    <tr>\n",
       "      <th>ENSG00000132677</th>\n",
       "      <td>collecting duct</td>\n",
       "      <td>RHBG</td>\n",
       "    </tr>\n",
       "    <tr>\n",
       "      <th>ENSG00000113073</th>\n",
       "      <td>collecting duct</td>\n",
       "      <td>SLC4A9</td>\n",
       "    </tr>\n",
       "  </tbody>\n",
       "</table>\n",
       "<p>137 rows × 2 columns</p>\n",
       "</div>"
      ],
      "text/plain": [
       "                                          region     gene\n",
       "Ensembl ID(supplied by Ensembl)                          \n",
       "ENSG00000128567                       glomerulus    PODXL\n",
       "ENSG00000158457                       glomerulus  TSPAN33\n",
       "ENSG00000113578                       glomerulus     FGF1\n",
       "ENSG00000116218                       glomerulus    NPHS2\n",
       "ENSG00000198743                       glomerulus   SLC5A3\n",
       "...                                          ...      ...\n",
       "ENSG00000105707                  collecting duct      HPN\n",
       "ENSG00000214128                  collecting duct  TMEM213\n",
       "ENSG00000100362                  collecting duct    PVALB\n",
       "ENSG00000132677                  collecting duct     RHBG\n",
       "ENSG00000113073                  collecting duct   SLC4A9\n",
       "\n",
       "[137 rows x 2 columns]"
      ]
     },
     "execution_count": 16,
     "metadata": {},
     "output_type": "execute_result"
    }
   ],
   "source": [
    "hpa_markers = pd.read_csv('./data/hpa_markers.csv',comment='#')\n",
    "gene_symbols = pd.read_table('./data/gene_symbols.tsv').iloc[:,[0,-1]]\n",
    "hpa_markers = hpa_markers.merge(gene_symbols,\n",
    "                                left_on='gene',right_on='Approved symbol',how='inner')\n",
    "hpa_markers = hpa_markers.set_index(hpa_markers.columns[-1])[['region','gene']]\n",
    "hpa_markers"
   ]
  },
  {
   "cell_type": "code",
   "execution_count": 17,
   "metadata": {},
   "outputs": [
    {
     "data": {
      "text/plain": [
       "AnnData object with n_obs × n_vars = 10164 × 128\n",
       "    obs: 'Batch', 'Slide', 'Well', 'Tissue', 'Gene name', 'Gene', 'UniProt', 'Antibody', 'nTPM', 'Staining', 'Sex', 'Age', 'Patient', 'URL', 'Level', 'Reliability', 'epithelial cell of proximal tubule', 'fibroblast', 'glomerular visceral epithelial cell', 'kidney capillary endothelial cell', 'kidney connecting tubule epithelial cell', 'kidney distal convoluted tubule epithelial cell', 'kidney loop of Henle thick ascending limb epithelial cell', 'leukocyte', 'mesangial cell', 'parietal epithelial cell', 'renal alpha-intercalated cell', 'renal beta-intercalated cell', 'renal principal cell', 'rna_cell_type', 'rna_specificity', 'leiden'\n",
       "    uns: 'Patient_colors', 'leiden', 'leiden_colors', 'neighbors', 'rna_cell_type_colors', 'umap'\n",
       "    obsm: 'X_umap'\n",
       "    obsp: 'connectivities', 'distances'"
      ]
     },
     "execution_count": 17,
     "metadata": {},
     "output_type": "execute_result"
    }
   ],
   "source": [
    "adata = sc.read('./data/adata.h5')\n",
    "adata"
   ]
  },
  {
   "cell_type": "code",
   "execution_count": 33,
   "metadata": {},
   "outputs": [
    {
     "data": {
      "text/plain": [
       "(2106, 88)"
      ]
     },
     "execution_count": 33,
     "metadata": {},
     "output_type": "execute_result"
    }
   ],
   "source": [
    "train_genes = set(adata.obs.dropna()['Gene'])\n",
    "test_genes = train_genes & set(hpa_markers.index)\n",
    "train_genes = train_genes - set(hpa_markers['gene'])\n",
    "\n",
    "len(train_genes), len(test_genes)"
   ]
  },
  {
   "cell_type": "code",
   "execution_count": 32,
   "metadata": {},
   "outputs": [],
   "source": [
    "train_mask = adata.obs['Gene'].isin(train_genes)\n",
    "test_mask = adata.obs['Gene'].isin(test_genes)"
   ]
  },
  {
   "cell_type": "code",
   "execution_count": null,
   "metadata": {},
   "outputs": [],
   "source": [
    "# from sklearn.model_selection import cross_val_score, cross_val_predict, GridSearchCV\n",
    "# from sklearn.metrics import confusion_matrix, balanced_accuracy_score, accuracy_score\n",
    "# from scipy.special import softmax\n",
    "# from sklearn.model_selection import GroupKFold\n",
    "\n",
    "# from src.classifier import SoftmaxRegression"
   ]
  },
  {
   "cell_type": "code",
   "execution_count": null,
   "metadata": {},
   "outputs": [],
   "source": [
    "# X_train = adata[train_mask].to_df()\n",
    "# Y_train = adata[train_mask].obs[rna.columns].copy()\n",
    "\n",
    "# X_test = adata_test.to_df()\n",
    "# Y_test = adata_test.obs[rna.columns].copy()\n",
    "# clf = SoftmaxRegression(max_iters=1000, lr=0.01, verbose=True)\n",
    "\n",
    "# labels_train = Y_train.idxmax(1)\n",
    "# w_train = (1./labels_train.value_counts())[labels_train]\n",
    "# groups_train = adata_train[train_idx].obs['Gene']\n",
    "\n",
    "# shape = Y_train.shape\n",
    "# columns = Y_train.columns\n",
    "# # Y_train = labels_train.copy()\n",
    "\n",
    "# npr.seed(0)\n",
    "# idx = npr.permutation(len(X_train)) # shuffle\n",
    "# Y_pred_train = np.zeros(shape)\n",
    "# Y_pred_train[idx] = cross_val_predict(\n",
    "#     clf,\n",
    "#     X_train.iloc[idx],\n",
    "#     Y_train.iloc[idx], \n",
    "#     groups=groups_train.iloc[idx],\n",
    "#     method='predict_proba',\n",
    "#     cv=GroupKFold(n_splits=5)\n",
    "# )\n",
    "# Y_pred_train /= Y_pred_train.sum(1,keepdims=True)\n",
    "# Y_pred_train = pd.DataFrame(Y_pred_train,columns=columns,index=X_train.index)\n",
    "\n",
    "# labels_pred_train = Y_pred_train.idxmax(1)\n",
    "\n",
    "# clf.fit(X_train,Y_train)#,sample_weight=w_train)\n",
    "# Y_pred_test = clf.predict_proba(X_test)\n",
    "# # Y_pred_test = clf.predict(X_test)\n",
    "# Y_pred_test /= Y_pred_test.sum(1,keepdims=True)\n",
    "# Y_pred_test = pd.DataFrame(Y_pred_test,columns=columns,index=X_test.index)\n",
    "\n",
    "# print(balanced_accuracy_score(labels_train, labels_pred_train))\n",
    "\n",
    "# plt.figure(figsize=(8,8))\n",
    "# ls = [c[:20] for c in rna.columns]\n",
    "# conf_mtx = pd.DataFrame(confusion_matrix(labels_train,labels_pred_train),index=ls,columns=ls)\n",
    "\n",
    "# g = sns.heatmap(np.log(conf_mtx+1),square=True,annot=conf_mtx,cmap='Blues',fmt='d')"
   ]
  }
 ],
 "metadata": {
  "kernelspec": {
   "display_name": "Python [conda env:.conda-HumanProteinAtlas]",
   "language": "python",
   "name": "conda-env-.conda-HumanProteinAtlas-py"
  },
  "language_info": {
   "codemirror_mode": {
    "name": "ipython",
    "version": 3
   },
   "file_extension": ".py",
   "mimetype": "text/x-python",
   "name": "python",
   "nbconvert_exporter": "python",
   "pygments_lexer": "ipython3",
   "version": "3.9.10"
  }
 },
 "nbformat": 4,
 "nbformat_minor": 4
}
