{
 "cells": [
  {
   "cell_type": "markdown",
   "metadata": {},
   "source": [
    "# 1. Process RNA"
   ]
  },
  {
   "cell_type": "markdown",
   "metadata": {},
   "source": [
    "Using scRNA data from Muto et al 2021, \"Single cell transcriptional and chromatin accessibility profiling redefine cellular heterogeneity in the adult human kidney\" at https://cellxgene.cziscience.com/collections/9b02383a-9358-4f0f-9795-a891ec523bcc"
   ]
  },
  {
   "cell_type": "code",
   "execution_count": 1,
   "metadata": {},
   "outputs": [],
   "source": [
    "# !curl -o ./data/local.h5ad \"https://corpora-data-prod.s3.amazonaws.com/b33cd78e-3a32-4bd1-b284-cac266d91719/local.h5ad\""
   ]
  },
  {
   "cell_type": "code",
   "execution_count": null,
   "metadata": {},
   "outputs": [],
   "source": [
    "import scanpy as sc\n",
    "\n",
    "adata = sc.read('./data/local.h5ad')\n",
    "sc.pp.normalize_total(adata)\n",
    "sc.tl.rank_genes_groups(adata,groupby='cell_type',method='wilcoxon', use_raw=False)\n",
    "\n",
    "print(rna_adata.shape)\n",
    "\n",
    "rna = rna_adata.to_df().groupby(rna_adata.obs['cell_type']).mean().T \n",
    "rna_unnormed = rna.copy()\n",
    "\n",
    "rna += 1 / rna.shape[0] # pseudocount\n",
    "rna.values[:] = rna.values / rna.values.sum(1,keepdims=True)\n",
    "\n",
    "rna.shape"
   ]
  }
 ],
 "metadata": {
  "kernelspec": {
   "display_name": "Python [conda env:.conda-NileRed]",
   "language": "python",
   "name": "conda-env-.conda-NileRed-py"
  },
  "language_info": {
   "codemirror_mode": {
    "name": "ipython",
    "version": 3
   },
   "file_extension": ".py",
   "mimetype": "text/x-python",
   "name": "python",
   "nbconvert_exporter": "python",
   "pygments_lexer": "ipython3",
   "version": "3.8.10"
  }
 },
 "nbformat": 4,
 "nbformat_minor": 4
}
